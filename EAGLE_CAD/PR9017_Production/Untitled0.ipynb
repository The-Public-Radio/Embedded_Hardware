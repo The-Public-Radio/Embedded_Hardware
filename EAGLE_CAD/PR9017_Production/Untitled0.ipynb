{
 "metadata": {
  "name": "",
  "signature": "sha256:cd369040a3486c30a037b3f913242246fb86f4be5239ea9c90de05df27183ebc"
 },
 "nbformat": 3,
 "nbformat_minor": 0,
 "worksheets": [
  {
   "cells": [
    {
     "cell_type": "code",
     "collapsed": false,
     "input": [
      "import csv\n",
      "\n",
      "rows = []\n",
      "with open('/Users/snwright/Documents/The-Public-Radio/Embedded_Hardware/EAGLE_CAD/PR9017_Production/PR9017_BOM_values.csv', 'rb') as csvfile:\n",
      "    cf = csv.reader(csvfile)\n",
      "    for row in cf:\n",
      "        rows.append(row)"
     ],
     "language": "python",
     "metadata": {},
     "outputs": [],
     "prompt_number": 4
    },
    {
     "cell_type": "code",
     "collapsed": false,
     "input": [
      "with open('/Users/snwright/Downloads/foo.csv', 'wb') as of:\n",
      "    cf = csv.writer(of)\n",
      "    for row in rows:\n",
      "        cf.writerow(row)"
     ],
     "language": "python",
     "metadata": {},
     "outputs": [],
     "prompt_number": 6
    },
    {
     "cell_type": "code",
     "collapsed": false,
     "input": [],
     "language": "python",
     "metadata": {},
     "outputs": []
    }
   ],
   "metadata": {}
  }
 ]
}