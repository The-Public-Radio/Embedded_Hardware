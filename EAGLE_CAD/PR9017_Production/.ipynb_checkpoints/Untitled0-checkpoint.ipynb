{
 "metadata": {
  "name": "",
  "signature": "sha256:d64a6d579f0c57b024ff31892a9f8c82a24cd3066aa6466261ce323759db7b31"
 },
 "nbformat": 3,
 "nbformat_minor": 0,
 "worksheets": []
}